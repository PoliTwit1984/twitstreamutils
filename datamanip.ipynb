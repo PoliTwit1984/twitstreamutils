{
 "cells": [
  {
   "cell_type": "code",
   "execution_count": 20,
   "metadata": {},
   "outputs": [
    {
     "name": "stdout",
     "output_type": "stream",
     "text": [
      "1604949372\n"
     ]
    }
   ],
   "source": [
    "import tweepy\n",
    "\n",
    "import config\n",
    "\n",
    "auth = tweepy.OAuthHandler(config.consumer_key,\n",
    "                           config.consumer_secret)\n",
    "\n",
    "auth.set_access_token(config.access_token, config.access_token_secret)\n",
    "\n",
    "api = tweepy.API(auth)\n",
    "\n",
    "userinfo = api.get_user(screen_name='bobondermo')\n",
    "\n",
    "print(userinfo.id)\n",
    "\n",
    "\n",
    "\n",
    "\n",
    "# client = tweepy.Client(bearer_token=st.secrets[\"bearer_token\"])\n",
    "# client2 = tweepy.Client(bearer_token=st.secrets[\"bearer_token\"])\n",
    "\n",
    "# twitter_memID = 1604949372\n",
    "\n",
    "# client = tweepy.Client(bearer_token=config.bearer_token)\n",
    "# response = client.get_user(username = 'bobondermo')\n",
    "# print(response)\n",
    "\n"
   ]
  }
 ],
 "metadata": {
  "interpreter": {
   "hash": "33db5c7e3bb784b844c2c176e5e511469c44d8edbdec04c9eaa139fbb1e863e8"
  },
  "kernelspec": {
   "display_name": "Python 3.9.10 64-bit",
   "language": "python",
   "name": "python3"
  },
  "language_info": {
   "codemirror_mode": {
    "name": "ipython",
    "version": 3
   },
   "file_extension": ".py",
   "mimetype": "text/x-python",
   "name": "python",
   "nbconvert_exporter": "python",
   "pygments_lexer": "ipython3",
   "version": "3.9.10"
  },
  "orig_nbformat": 4
 },
 "nbformat": 4,
 "nbformat_minor": 2
}
